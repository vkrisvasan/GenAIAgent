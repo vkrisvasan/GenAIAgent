{
  "nbformat": 4,
  "nbformat_minor": 0,
  "metadata": {
    "colab": {
      "provenance": [],
      "authorship_tag": "ABX9TyP7ZdhYE72Hn+94+puDQkEJ",
      "include_colab_link": true
    },
    "kernelspec": {
      "name": "python3",
      "display_name": "Python 3"
    },
    "language_info": {
      "name": "python"
    }
  },
  "cells": [
    {
      "cell_type": "markdown",
      "metadata": {
        "id": "view-in-github",
        "colab_type": "text"
      },
      "source": [
        "<a href=\"https://colab.research.google.com/github/vkrisvasan/GenAIAgent/blob/main/AgentEx1.ipynb\" target=\"_parent\"><img src=\"https://colab.research.google.com/assets/colab-badge.svg\" alt=\"Open In Colab\"/></a>"
      ]
    },
    {
      "cell_type": "code",
      "execution_count": null,
      "metadata": {
        "id": "vTBY34QFMTm-"
      },
      "outputs": [],
      "source": [
        "#build and deploy an agent that uses the Gemini Pro model, VertexAI Reasoning Engine, Python functions as tools, and LangChain for orchestration\n",
        "\n",
        "#Gitaccount: vkrisvasan Repo: GenAIAgent Code: AgentEx1.ipynb\n",
        "#Simple Agent assist implemented by\n",
        "  #1. creating a project in google vertexai https://console.cloud.google.com/vertex-ai [note the projectID]\n",
        "  #2. create storage bucket in https://console.cloud.google.com/storage/browser - use  \"us-central1\" location [Note location and bucket ID]\n"
      ]
    },
    {
      "cell_type": "code",
      "source": [
        "!pip install --upgrade --quiet \\\n",
        "    google-cloud-aiplatform==1.51.0 \\\n",
        "    langchain==0.1.20 \\\n",
        "    langchain-google-vertexai==1.0.3 \\\n",
        "    cloudpickle==3.0.0 \\\n",
        "    pydantic==2.7.1 \\\n",
        "    requests"
      ],
      "metadata": {
        "id": "XzW2R75XN1-y"
      },
      "execution_count": null,
      "outputs": []
    },
    {
      "cell_type": "code",
      "source": [
        "# Restart kernel after installs so that your environment can access the new packages\n",
        "import IPython\n",
        "\n",
        "app = IPython.Application.instance()\n",
        "app.kernel.do_shutdown(True)"
      ],
      "metadata": {
        "colab": {
          "base_uri": "https://localhost:8080/"
        },
        "id": "4Mik5EMiTTky",
        "outputId": "b701b717-dca1-4d9e-8715-7440611ad214"
      },
      "execution_count": null,
      "outputs": [
        {
          "output_type": "execute_result",
          "data": {
            "text/plain": [
              "{'status': 'ok', 'restart': True}"
            ]
          },
          "metadata": {},
          "execution_count": 2
        }
      ]
    },
    {
      "cell_type": "code",
      "source": [
        "import sys\n",
        "\n",
        "if \"google.colab\" in sys.modules:\n",
        "    from google.colab import auth\n",
        "\n",
        "    auth.authenticate_user()"
      ],
      "metadata": {
        "id": "ENhCR3o5TYFL"
      },
      "execution_count": null,
      "outputs": []
    },
    {
      "cell_type": "code",
      "source": [
        "import os\n",
        "import getpass\n",
        "credential_names = [\"GCP_PROJECT_ID\", \"LOCATION\", \"STAGING_BUCKET\"]\n",
        "for credential in credential_names:\n",
        "  if credential not in os.environ:\n",
        "    os.environ[credential]=getpass.getpass(\"Provide your...\" + credential)"
      ],
      "metadata": {
        "id": "dpF7UNSPWYFj",
        "colab": {
          "base_uri": "https://localhost:8080/"
        },
        "outputId": "443e8921-9c55-44bb-bbeb-3f1f3a3b10cc"
      },
      "execution_count": null,
      "outputs": [
        {
          "name": "stdout",
          "output_type": "stream",
          "text": [
            "Provide your...GCP_PROJECT_ID··········\n",
            "Provide your...LOCATION··········\n",
            "Provide your...STAGING_BUCKET··········\n"
          ]
        }
      ]
    },
    {
      "cell_type": "code",
      "source": [
        "PROJECT_ID = os.environ[\"GCP_PROJECT_ID\"]\n",
        "LOCATION = os.environ[\"LOCATION\"]\n",
        "STAGING_BUCKET = os.environ[\"STAGING_BUCKET\"]\n",
        "STAGING_BUCKET_FULL = \"gs://{}\".format(STAGING_BUCKET)\n"
      ],
      "metadata": {
        "id": "cmGETYeUYOFN"
      },
      "execution_count": null,
      "outputs": []
    },
    {
      "cell_type": "code",
      "source": [
        "import vertexai\n",
        "\n",
        "vertexai.init(project=PROJECT_ID, location=LOCATION, staging_bucket=STAGING_BUCKET_FULL)"
      ],
      "metadata": {
        "id": "VS38Ko2zThob"
      },
      "execution_count": null,
      "outputs": []
    },
    {
      "cell_type": "code",
      "source": [
        "import requests\n",
        "from vertexai.preview import reasoning_engines"
      ],
      "metadata": {
        "id": "aKdad2jkZL_a"
      },
      "execution_count": null,
      "outputs": []
    },
    {
      "cell_type": "code",
      "source": [
        "model = \"gemini-1.5-pro-preview-0409\""
      ],
      "metadata": {
        "id": "5gbiik9iZRnm"
      },
      "execution_count": null,
      "outputs": []
    },
    {
      "cell_type": "code",
      "source": [
        "def get_exchange_rate(\n",
        "    currency_from: str = \"USD\",\n",
        "    currency_to: str = \"EUR\",\n",
        "    currency_date: str = \"latest\",\n",
        "):\n",
        "    \"\"\"Retrieves the exchange rate between two currencies on a specified date.\"\"\"\n",
        "    import requests\n",
        "\n",
        "    response = requests.get(\n",
        "        f\"https://api.frankfurter.app/{currency_date}\",\n",
        "        params={\"from\": currency_from, \"to\": currency_to},\n",
        "    )\n",
        "    return response.json()"
      ],
      "metadata": {
        "id": "emxYQrNJZUOi"
      },
      "execution_count": null,
      "outputs": []
    },
    {
      "cell_type": "code",
      "source": [
        "get_exchange_rate(currency_from=\"USD\", currency_to=\"INR\")"
      ],
      "metadata": {
        "colab": {
          "base_uri": "https://localhost:8080/"
        },
        "id": "ziU1BWncZXZt",
        "outputId": "d1b0a524-ba3c-4de6-f493-d3ece7f6e73d"
      },
      "execution_count": null,
      "outputs": [
        {
          "output_type": "execute_result",
          "data": {
            "text/plain": [
              "{'amount': 1.0, 'base': 'USD', 'date': '2024-06-14', 'rates': {'INR': 83.54}}"
            ]
          },
          "metadata": {},
          "execution_count": 9
        }
      ]
    },
    {
      "cell_type": "code",
      "source": [
        "agent = reasoning_engines.LangchainAgent(\n",
        "    model=model,\n",
        "    tools=[get_exchange_rate],\n",
        "    agent_executor_kwargs={\"return_intermediate_steps\": True},\n",
        ")"
      ],
      "metadata": {
        "id": "FUnFFWWXZcKb"
      },
      "execution_count": null,
      "outputs": []
    },
    {
      "cell_type": "code",
      "source": [
        "agent.query(input=\"What's the exchange rate from US dollars to Indian currency today?\")"
      ],
      "metadata": {
        "colab": {
          "base_uri": "https://localhost:8080/"
        },
        "id": "xXjWR2YkZfkW",
        "outputId": "c12c5f7c-b056-43e9-d986-c53fbefb73dd"
      },
      "execution_count": null,
      "outputs": [
        {
          "output_type": "execute_result",
          "data": {
            "text/plain": [
              "{'input': \"What's the exchange rate from US dollars to Indian currency today?\",\n",
              " 'output': 'The exchange rate from US dollars to Indian rupees on 2024-06-14 is 1 USD to 83.54 INR. \\n',\n",
              " 'intermediate_steps': [[{'lc': 1,\n",
              "    'type': 'constructor',\n",
              "    'id': ['langchain', 'schema', 'agent', 'ToolAgentAction'],\n",
              "    'kwargs': {'tool': 'get_exchange_rate',\n",
              "     'tool_input': {'currency_from': 'USD', 'currency_to': 'INR'},\n",
              "     'log': \"\\nInvoking: `get_exchange_rate` with `{'currency_from': 'USD', 'currency_to': 'INR'}`\\n\\n\\n\",\n",
              "     'type': 'AgentActionMessageLog',\n",
              "     'message_log': [{'lc': 1,\n",
              "       'type': 'constructor',\n",
              "       'id': ['langchain', 'schema', 'messages', 'AIMessageChunk'],\n",
              "       'kwargs': {'content': '',\n",
              "        'additional_kwargs': {'function_call': {'name': 'get_exchange_rate',\n",
              "          'arguments': '{\"currency_from\": \"USD\", \"currency_to\": \"INR\"}'}},\n",
              "        'response_metadata': {'is_blocked': False,\n",
              "         'safety_ratings': [{'category': 'HARM_CATEGORY_HATE_SPEECH',\n",
              "           'probability_label': 'NEGLIGIBLE',\n",
              "           'blocked': False},\n",
              "          {'category': 'HARM_CATEGORY_DANGEROUS_CONTENT',\n",
              "           'probability_label': 'NEGLIGIBLE',\n",
              "           'blocked': False},\n",
              "          {'category': 'HARM_CATEGORY_HARASSMENT',\n",
              "           'probability_label': 'NEGLIGIBLE',\n",
              "           'blocked': False},\n",
              "          {'category': 'HARM_CATEGORY_SEXUALLY_EXPLICIT',\n",
              "           'probability_label': 'NEGLIGIBLE',\n",
              "           'blocked': False}],\n",
              "         'citation_metadata': None,\n",
              "         'usage_metadata': {'prompt_token_count': 74,\n",
              "          'candidates_token_count': 13,\n",
              "          'total_token_count': 87}},\n",
              "        'type': 'AIMessageChunk',\n",
              "        'id': 'run-5535e6ed-cfc0-4d6b-ba64-68e4db08174f',\n",
              "        'tool_calls': [{'name': 'get_exchange_rate',\n",
              "          'args': {'currency_from': 'USD', 'currency_to': 'INR'},\n",
              "          'id': '0c209c1b-a3a0-4651-86f2-d16898396f49'}],\n",
              "        'tool_call_chunks': [{'name': 'get_exchange_rate',\n",
              "          'args': '{\"currency_from\": \"USD\", \"currency_to\": \"INR\"}',\n",
              "          'id': '0c209c1b-a3a0-4651-86f2-d16898396f49',\n",
              "          'index': None}],\n",
              "        'invalid_tool_calls': []}}],\n",
              "     'tool_call_id': '0c209c1b-a3a0-4651-86f2-d16898396f49'}},\n",
              "   {'amount': 1.0,\n",
              "    'base': 'USD',\n",
              "    'date': '2024-06-14',\n",
              "    'rates': {'INR': 83.54}}]]}"
            ]
          },
          "metadata": {},
          "execution_count": 15
        }
      ]
    },
    {
      "cell_type": "code",
      "source": [
        "agent = reasoning_engines.LangchainAgent(\n",
        "    model=model,\n",
        "    tools=[get_exchange_rate],\n",
        ")"
      ],
      "metadata": {
        "id": "iSL86jVuaCj_"
      },
      "execution_count": null,
      "outputs": []
    },
    {
      "cell_type": "code",
      "source": [
        "#Create vertexai Managed Runtime (Reasoning Engine): Effortlessly deploy and scale your application using Vertex AI’s secure and reliable infrastructure.\n",
        "remote_agent = reasoning_engines.ReasoningEngine.create(\n",
        "    agent,\n",
        "    requirements=[\n",
        "        \"google-cloud-aiplatform==1.51.0\",\n",
        "        \"langchain==0.1.20\",\n",
        "        \"langchain-google-vertexai==1.0.3\",\n",
        "        \"cloudpickle==3.0.0\",\n",
        "        \"pydantic==2.7.1\",\n",
        "        \"requests\",\n",
        "    ],\n",
        ")"
      ],
      "metadata": {
        "id": "5pMuWw6SaGvt",
        "colab": {
          "base_uri": "https://localhost:8080/"
        },
        "outputId": "3216ae06-e47f-4033-b694-cd00e7c6e36e"
      },
      "execution_count": null,
      "outputs": [
        {
          "output_type": "stream",
          "name": "stderr",
          "text": [
            "INFO:vertexai.reasoning_engines._reasoning_engines:Using bucket agent_kv_ex1\n",
            "INFO:vertexai.reasoning_engines._reasoning_engines:Writing to gs://agent_kv_ex1/reasoning_engine/reasoning_engine.pkl\n",
            "INFO:vertexai.reasoning_engines._reasoning_engines:Writing to gs://agent_kv_ex1/reasoning_engine/requirements.txt\n",
            "INFO:vertexai.reasoning_engines._reasoning_engines:Creating in-memory tarfile of extra_packages\n",
            "INFO:vertexai.reasoning_engines._reasoning_engines:Writing to gs://agent_kv_ex1/reasoning_engine/dependencies.tar.gz\n",
            "INFO:vertexai.reasoning_engines._reasoning_engines:Creating ReasoningEngine\n",
            "INFO:vertexai.reasoning_engines._reasoning_engines:Create ReasoningEngine backing LRO: projects/17529158352/locations/us-central1/reasoningEngines/596902872487034880/operations/2443296565574500352\n",
            "INFO:vertexai.reasoning_engines._reasoning_engines:ReasoningEngine created. Resource name: projects/17529158352/locations/us-central1/reasoningEngines/596902872487034880\n",
            "INFO:vertexai.reasoning_engines._reasoning_engines:To use this ReasoningEngine in another session:\n",
            "INFO:vertexai.reasoning_engines._reasoning_engines:reasoning_engine = vertexai.preview.reasoning_engines.ReasoningEngine('projects/17529158352/locations/us-central1/reasoningEngines/596902872487034880')\n"
          ]
        }
      ]
    },
    {
      "cell_type": "code",
      "source": [
        "remote_agent.query(\n",
        "    input=\"What's the exchange rate from US dollars to Indian currency today?\"\n",
        ")"
      ],
      "metadata": {
        "id": "kRmMqB6gaPsb",
        "colab": {
          "base_uri": "https://localhost:8080/"
        },
        "outputId": "287bbd0c-c324-4b7b-a8e8-8a1ac2dd86ea"
      },
      "execution_count": null,
      "outputs": [
        {
          "output_type": "execute_result",
          "data": {
            "text/plain": [
              "{'input': \"What's the exchange rate from US dollars to Indian currency today?\",\n",
              " 'output': 'The exchange rate from US dollars to Indian rupees is 1 USD to 83.54 INR as of June 14, 2024. \\n'}"
            ]
          },
          "metadata": {},
          "execution_count": 18
        }
      ]
    }
  ]
}